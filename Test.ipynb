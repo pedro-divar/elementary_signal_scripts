{
 "cells": [
  {
   "cell_type": "code",
   "execution_count": 4,
   "metadata": {},
   "outputs": [
    {
     "data": {
      "text/plain": [
       "<StemContainer object of 3 artists>"
      ]
     },
     "execution_count": 4,
     "metadata": {},
     "output_type": "execute_result"
    },
    {
     "data": {
      "image/png": "[encoded data removed]",
      "text/plain": [
       "<Figure size 432x288 with 1 Axes>"
      ]
     },
     "metadata": {
      "needs_background": "light"
     },
     "output_type": "display_data"
    }
   ],
   "source": [
    "import generate as gen\n",
    "import plot as pl\n",
    "import matplotlib.pyplot as plt\n",
    "import numpy as np\n",
    "\n",
    "impulse = gen.unit_impulse(20, 2, 3)\n",
    "\n",
    "heavy = gen.heavy_side(20, 3, 4)\n",
    "\n",
    "samples_normal, normal = gen.normal_signal(-20,-10,0,1)\n",
    "samples_exp, exp = gen.exponential_signal(-1,10,0.4,1)\n",
    "\n",
    "plt.stem(samples_exp, exp)\n"
   ]
  },
  {
   "cell_type": "code",
   "execution_count": 16,
   "metadata": {},
   "outputs": [
    {
     "data": {
      "image/png": "[encoded data removed]",
      "text/plain": [
       "<Figure size 432x288 with 1 Axes>"
      ]
     },
     "metadata": {
      "needs_background": "light"
     },
     "output_type": "display_data"
    }
   ],
   "source": [
    "import numpy as np\n",
    "import matplotlib.pyplot as plt\n",
    "\n",
    "def triangular_pulse(start, end, amplitude=1, width=1):\n",
    "    \n",
    "    samples = np.arange(start, end+1, 1) \n",
    "    \n",
    "    n1 = np.linspace(0, 1, num=width//2, endpoint=False)\n",
    "    n2 = np.linspace(1, 0, num=width//2+1)\n",
    "    signal = np.concatenate((np.zeros(-start-width//2), n1, n2, np.zeros(end-width//2)))\n",
    "    \n",
    "    return samples, amplitude * signal \n",
    "\n",
    "# Define the width of the pulse\n",
    "width = 6\n",
    "\n",
    "# Generate the pulse\n",
    "samples, pulse = triangular_pulse(-5, 5,amplitude = 10, width=width)\n",
    "\n",
    "# Plot the pulse\n",
    "plt.stem(samples, pulse)\n",
    "plt.show()"
   ]
  }
 ],
 "metadata": {
  "kernelspec": {
   "display_name": "Python 3",
   "language": "python",
   "name": "python3"
  },
  "language_info": {
   "codemirror_mode": {
    "name": "ipython",
    "version": 3
   },
   "file_extension": ".py",
   "mimetype": "text/x-python",
   "name": "python",
   "nbconvert_exporter": "python",
   "pygments_lexer": "ipython3",
   "version": "3.7.9"
  }
 },
 "nbformat": 4,
 "nbformat_minor": 4
}
